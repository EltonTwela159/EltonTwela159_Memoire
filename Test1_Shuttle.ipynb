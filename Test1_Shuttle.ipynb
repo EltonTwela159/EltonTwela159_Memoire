{
 "cells": [
  {
   "cell_type": "code",
   "execution_count": 175,
   "id": "8903938c-d5a2-4bb1-896e-6bf9fea40d44",
   "metadata": {},
   "outputs": [],
   "source": [
    "import pandas as pd\n",
    "from sklearn.model_selection import train_test_split, GridSearchCV\n",
    "from sklearn.preprocessing import StandardScaler\n",
    "from sklearn.ensemble import IsolationForest\n",
    "from sklearn.decomposition import PCA\n",
    "import numpy as np\n",
    "from sklearn.neighbors import LocalOutlierFactor\n",
    "from sklearn.metrics import classification_report, confusion_matrix\n",
    "from sklearn.metrics import make_scorer, f1_score\n",
    "import matplotlib.pyplot as plt\n",
    "import seaborn as sns\n",
    "\n"
   ]
  },
  {
   "cell_type": "code",
   "execution_count": 177,
   "id": "62597e32-1f25-4435-988d-a0d077a09f28",
   "metadata": {},
   "outputs": [
    {
     "name": "stderr",
     "output_type": "stream",
     "text": [
      "C:\\Users\\elton\\AppData\\Local\\Temp\\ipykernel_32648\\940385834.py:3: FutureWarning: The 'delim_whitespace' keyword in pd.read_csv is deprecated and will be removed in a future version. Use ``sep='\\s+'`` instead\n",
      "  data = pd.read_csv(file_path, delim_whitespace=True, header=None, engine='python')\n"
     ]
    }
   ],
   "source": [
    "# Chargement des données\n",
    "file_path = \"D:\\\\MEMO\\\\dataset\\\\statlog+shuttle\\\\shuttle.tst\"\n",
    "data = pd.read_csv(file_path, delim_whitespace=True, header=None, engine='python')\n"
   ]
  },
  {
   "cell_type": "code",
   "execution_count": 179,
   "id": "71da2438-ae4c-4e54-986d-0f866ca64e2c",
   "metadata": {},
   "outputs": [],
   "source": [
    "# Séparation des caractéristiques et de la cible\n",
    "X = data.iloc[:, :-1]  # Colonnes 0 à 8\n",
    "y = data.iloc[:, -1]   # Colonne 9\n"
   ]
  },
  {
   "cell_type": "code",
   "execution_count": 181,
   "id": "02432380-e78a-4e17-bdd7-02f026ec1964",
   "metadata": {},
   "outputs": [],
   "source": [
    "# Binarisation de la cible : classe 1 (normale) = 0, autres classes (anomalies) = 1\n",
    "y_binary = (y != 1).astype(int)\n"
   ]
  },
  {
   "cell_type": "code",
   "execution_count": 183,
   "id": "06c365de-fe36-4765-a9a0-76809fc94d63",
   "metadata": {},
   "outputs": [],
   "source": [
    "# Standardisation des caractéristiques\n",
    "scaler = StandardScaler()\n",
    "X_scaled = scaler.fit_transform(X)"
   ]
  },
  {
   "cell_type": "code",
   "execution_count": 185,
   "id": "57f26173-195e-4cfa-b816-ce3cb60504be",
   "metadata": {},
   "outputs": [],
   "source": [
    "# Réduction de la dimensionnalité avec PCA\n",
    "pca = PCA(n_components=0.95)  # Garder 95% de la variance\n",
    "X_pca = pca.fit_transform(X_scaled)\n"
   ]
  },
  {
   "cell_type": "code",
   "execution_count": 187,
   "id": "d862a895-40b3-40dc-a40f-546e38f503d3",
   "metadata": {},
   "outputs": [],
   "source": [
    "# Séparation en ensemble d'entraînement et de test\n",
    "X_train, X_test, y_train, y_test = train_test_split(\n",
    "    X_pca, y_binary, test_size=0.2, random_state=42, stratify=y_binary)\n"
   ]
  },
  {
   "cell_type": "code",
   "execution_count": 189,
   "id": "1309debf-81b7-4d57-a162-7a8ee145a3dd",
   "metadata": {},
   "outputs": [],
   "source": [
    "\n",
    "# Modèle Isolation Forest avec GridSearchCV pour l'ajustement des hyperparamètres\n",
    "param_grid = {\n",
    "    'contamination': [0.01, 0.05, 0.1, 0.15],\n",
    "    'n_estimators': [100, 200, 300],\n",
    "    'max_samples': ['auto', 0.8, 0.9]\n",
    "}\n",
    "iso_forest = IsolationForest(random_state=42, n_jobs=-1)\n",
    "grid_search_iso = GridSearchCV(iso_forest, param_grid, scoring=make_scorer(f1_score, average='macro'), cv=3)\n",
    "grid_search_iso.fit(X_train, y_train)\n",
    "best_iso_forest = grid_search_iso.best_estimator_\n"
   ]
  },
  {
   "cell_type": "code",
   "execution_count": 191,
   "id": "7e52e7d7-0990-43ef-9b34-8861124235c2",
   "metadata": {},
   "outputs": [],
   "source": [
    "# Prédictions : -1 pour anomalies, 1 pour normales (convertir en binaire)\n",
    "y_pred_train = (best_iso_forest.predict(X_train) == -1).astype(int)\n",
    "y_pred_test = (best_iso_forest.predict(X_test) == -1).astype(int)\n"
   ]
  },
  {
   "cell_type": "code",
   "execution_count": 193,
   "id": "fb49ca57-e84f-473b-8116-0c80e4bc268f",
   "metadata": {},
   "outputs": [],
   "source": [
    "# Fonction d'évaluation des modèles\n",
    "def evaluate_model(y_true, y_pred, model_name):\n",
    "    print(f\"Rapport de classification pour {model_name}:\\n\")\n",
    "    print(classification_report(y_true, y_pred))\n",
    "\n",
    "    # Matrice de confusion\n",
    "    cm = confusion_matrix(y_true, y_pred)\n",
    "    plt.figure(figsize=(6, 4))\n",
    "    sns.heatmap(\n",
    "        cm, annot=True, fmt=\"d\", cmap=\"Blues\",\n",
    "        xticklabels=[\"Normaux\", \"Anomalies\"],\n",
    "        yticklabels=[\"Normaux\", \"Anomalies\"]\n",
    "    )\n",
    "    plt.title(f\"Matrice de confusion - {model_name}\")\n",
    "    plt.xlabel(\"Prédiction\")\n",
    "    plt.ylabel(\"Vrai\")\n",
    "    plt.show()\n",
    "\n",
    "    # Précision, rappel, F1-score\n",
    "    metrics = classification_report(y_true, y_pred, output_dict=True)\n",
    "    return {\n",
    "        \"Precision\": metrics[\"1\"][\"precision\"],\n",
    "        \"Recall\": metrics[\"1\"][\"recall\"],\n",
    "        \"F1-Score\": metrics[\"1\"][\"f1-score\"],\n",
    "        \"Accuracy\": metrics[\"accuracy\"]\n",
    "    }"
   ]
  },
  {
   "cell_type": "code",
   "execution_count": 195,
   "id": "86f4fbbb-229a-4436-9edd-6e9ddf02bac0",
   "metadata": {},
   "outputs": [
    {
     "name": "stdout",
     "output_type": "stream",
     "text": [
      "Rapport de classification pour Isolation Forest:\n",
      "\n",
      "              precision    recall  f1-score   support\n",
      "\n",
      "           0       0.80      1.00      0.89      2296\n",
      "           1       0.73      0.04      0.08       604\n",
      "\n",
      "    accuracy                           0.80      2900\n",
      "   macro avg       0.76      0.52      0.48      2900\n",
      "weighted avg       0.78      0.80      0.72      2900\n",
      "\n"
     ]
    },
    {
     "data": {
      "image/png": "[encoded data removed]",
      "text/plain": [
       "<Figure size 600x400 with 2 Axes>"
      ]
     },
     "metadata": {},
     "output_type": "display_data"
    },
    {
     "name": "stdout",
     "output_type": "stream",
     "text": [
      "Metrics: {'Precision': 0.7272727272727273, 'Recall': 0.039735099337748346, 'F1-Score': 0.07535321821036106, 'Accuracy': 0.796896551724138}\n"
     ]
    }
   ],
   "source": [
    "\n",
    "# Évaluation sur les données de test\n",
    "metrics = evaluate_model(y_test, y_pred_test, \"Isolation Forest\")\n",
    "print(\"Metrics:\", metrics)"
   ]
  },
  {
   "cell_type": "code",
   "execution_count": 3,
   "id": "a4d4d5da-d2e8-4ca3-8db5-65f0b244b68d",
   "metadata": {},
   "outputs": [],
   "source": [
    "import pandas as pd\n",
    "from sklearn.model_selection import train_test_split, GridSearchCV\n",
    "from sklearn.preprocessing import StandardScaler\n",
    "from sklearn.ensemble import RandomForestClassifier\n",
    "from sklearn.decomposition import PCA\n",
    "import numpy as np\n",
    "from sklearn.metrics import classification_report, confusion_matrix\n",
    "from sklearn.metrics import make_scorer, f1_score\n",
    "from imblearn.over_sampling import SMOTE\n",
    "import matplotlib.pyplot as plt\n",
    "import seaborn as sns\n",
    "\n"
   ]
  },
  {
   "cell_type": "code",
   "execution_count": 5,
   "id": "aabcdac1-9c68-4210-ad60-2b82493579a7",
   "metadata": {},
   "outputs": [
    {
     "name": "stderr",
     "output_type": "stream",
     "text": [
      "<>:2: SyntaxWarning: invalid escape sequence '\\M'\n",
      "<>:2: SyntaxWarning: invalid escape sequence '\\M'\n",
      "C:\\Users\\elton\\AppData\\Local\\Temp\\ipykernel_12124\\778972402.py:2: SyntaxWarning: invalid escape sequence '\\M'\n",
      "  file_path = \"D:\\MEMO\\dataset\\statlog+shuttle\\shuttle.tst\"\n",
      "C:\\Users\\elton\\AppData\\Local\\Temp\\ipykernel_12124\\778972402.py:3: FutureWarning: The 'delim_whitespace' keyword in pd.read_csv is deprecated and will be removed in a future version. Use ``sep='\\s+'`` instead\n",
      "  data = pd.read_csv(file_path, delim_whitespace=True, header=None, engine='python')\n"
     ]
    }
   ],
   "source": [
    "# Chargement des données\n",
    "file_path = \"D:\\MEMO\\dataset\\statlog+shuttle\\shuttle.tst\"\n",
    "data = pd.read_csv(file_path, delim_whitespace=True, header=None, engine='python')\n"
   ]
  },
  {
   "cell_type": "code",
   "execution_count": 7,
   "id": "fc84217c-4a89-4853-8977-b4109b3797e5",
   "metadata": {},
   "outputs": [],
   "source": [
    "# Séparation des caractéristiques et de la cible\n",
    "X = data.iloc[:, :-1]  # Colonnes 0 à 8\n",
    "y = data.iloc[:, -1]   # Colonne 9\n"
   ]
  },
  {
   "cell_type": "code",
   "execution_count": 9,
   "id": "f74e4b4f-85e8-472b-ae2c-399681b60114",
   "metadata": {},
   "outputs": [],
   "source": [
    "# Binarisation de la cible : classe 1 (normale) = 0, autres classes (anomalies) = 1\n",
    "y_binary = (y != 1).astype(int)\n",
    "\n"
   ]
  },
  {
   "cell_type": "code",
   "execution_count": 11,
   "id": "20a751f7-4a56-49f4-bd0a-513ee02cc80e",
   "metadata": {},
   "outputs": [],
   "source": [
    "# Standardisation des caractéristiques\n",
    "scaler = StandardScaler()\n",
    "X_scaled = scaler.fit_transform(X)\n"
   ]
  },
  {
   "cell_type": "code",
   "execution_count": 13,
   "id": "72dfb23e-fc5d-4140-b77b-2e31eac3f841",
   "metadata": {},
   "outputs": [],
   "source": [
    "# Réduction de la dimensionnalité avec PCA\n",
    "pca = PCA(n_components=0.95)  # Garder 95% de la variance\n",
    "X_pca = pca.fit_transform(X_scaled)\n"
   ]
  },
  {
   "cell_type": "code",
   "execution_count": 15,
   "id": "5bc1e4ee-388f-475f-a6a4-dc7bf62a4907",
   "metadata": {},
   "outputs": [],
   "source": [
    "\n",
    "# Séparation en ensemble d'entraînement et de test\n",
    "X_train, X_test, y_train, y_test = train_test_split(\n",
    "    X_pca, y_binary, test_size=0.2, random_state=42, stratify=y_binary)\n"
   ]
  },
  {
   "cell_type": "code",
   "execution_count": 17,
   "id": "9573f694-6ec3-46c3-b118-60a15ed03d24",
   "metadata": {},
   "outputs": [],
   "source": [
    "# Appliquer SMOTE pour équilibrer les classes\n",
    "smote = SMOTE(random_state=42)\n",
    "X_train_resampled, y_train_resampled = smote.fit_resample(X_train, y_train)\n"
   ]
  },
  {
   "cell_type": "code",
   "execution_count": 19,
   "id": "439067ad-2187-4f26-aa09-b52c7c712cc7",
   "metadata": {},
   "outputs": [],
   "source": [
    "\n",
    "# Modèle Random Forest avec GridSearchCV pour l'ajustement des hyperparamètres\n",
    "param_grid = {\n",
    "    'n_estimators': [100, 200, 300],\n",
    "    'max_depth': [None, 10, 20, 30],\n",
    "    'min_samples_split': [2, 5, 10],\n",
    "    'min_samples_leaf': [1, 2, 4]\n",
    "}\n",
    "rf_classifier = RandomForestClassifier(random_state=42)\n",
    "grid_search_rf = GridSearchCV(rf_classifier, param_grid, scoring='f1', cv=3)\n",
    "grid_search_rf.fit(X_train_resampled, y_train_resampled)\n",
    "best_rf_classifier = grid_search_rf.best_estimator_\n"
   ]
  },
  {
   "cell_type": "code",
   "execution_count": 21,
   "id": "11e439f4-40e4-4c6e-a79f-9f0025aa8ee3",
   "metadata": {},
   "outputs": [],
   "source": [
    "\n",
    "# Prédictions sur l'ensemble de test\n",
    "y_pred_test = best_rf_classifier.predict(X_test)\n",
    "\n"
   ]
  },
  {
   "cell_type": "code",
   "execution_count": 23,
   "id": "8fdbfca4-a279-4998-a30e-12852705202b",
   "metadata": {},
   "outputs": [],
   "source": [
    "# Fonction d'évaluation des modèles\n",
    "def evaluate_model(y_true, y_pred, model_name):\n",
    "    print(f\"Rapport de classification pour {model_name}:\\n\")\n",
    "    print(classification_report(y_true, y_pred))\n",
    "\n",
    "    # Matrice de confusion\n",
    "    cm = confusion_matrix(y_true, y_pred)\n",
    "    plt.figure(figsize=(6, 4))\n",
    "    sns.heatmap(\n",
    "        cm, annot=True, fmt=\"d\", cmap=\"Blues\",\n",
    "        xticklabels=[\"Normaux\", \"Anomalies\"],\n",
    "        yticklabels=[\"Normaux\", \"Anomalies\"]\n",
    "    )\n",
    "    plt.title(f\"Matrice de confusion - {model_name}\")\n",
    "    plt.xlabel(\"Prédiction\")\n",
    "    plt.ylabel(\"Vrai\")\n",
    "    plt.show()\n",
    "\n",
    "    # Précision, rappel, F1-score\n",
    "    metrics = classification_report(y_true, y_pred, output_dict=True)\n",
    "    return {\n",
    "        \"Precision\": metrics[\"1\"][\"precision\"],\n",
    "        \"Recall\": metrics[\"1\"][\"recall\"],\n",
    "        \"F1-Score\": metrics[\"1\"][\"f1-score\"],\n",
    "        \"Accuracy\": metrics[\"accuracy\"]\n",
    "    }\n"
   ]
  },
  {
   "cell_type": "code",
   "execution_count": 25,
   "id": "eea8654e-4446-4f2c-81f7-8c6bf55a427b",
   "metadata": {},
   "outputs": [
    {
     "name": "stdout",
     "output_type": "stream",
     "text": [
      "Rapport de classification pour Random Forest:\n",
      "\n",
      "              precision    recall  f1-score   support\n",
      "\n",
      "           0       1.00      1.00      1.00      2296\n",
      "           1       1.00      1.00      1.00       604\n",
      "\n",
      "    accuracy                           1.00      2900\n",
      "   macro avg       1.00      1.00      1.00      2900\n",
      "weighted avg       1.00      1.00      1.00      2900\n",
      "\n"
     ]
    },
    {
     "data": {
      "image/png": "[encoded data removed]",
      "text/plain": [
       "<Figure size 600x400 with 2 Axes>"
      ]
     },
     "metadata": {},
     "output_type": "display_data"
    }
   ],
   "source": [
    "\n",
    "# Évaluation sur les données de test\n",
    "metrics = evaluate_model(y_test, y_pred_test, \"Random Forest\")"
   ]
  },
  {
   "cell_type": "code",
   "execution_count": 43,
   "id": "7c45c329-4c70-45cd-9e07-46fd44defcbe",
   "metadata": {},
   "outputs": [],
   "source": [
    "from sklearn.ensemble import RandomForestClassifier\n",
    "from imblearn.over_sampling import SMOTE\n",
    "from sklearn.metrics import precision_recall_fscore_support, accuracy_score, confusion_matrix\n",
    "import seaborn as sns\n",
    "import matplotlib.pyplot as plt\n"
   ]
  },
  {
   "cell_type": "code",
   "execution_count": 45,
   "id": "14edcbc4-1233-4c08-960f-e0a4d83d1989",
   "metadata": {},
   "outputs": [],
   "source": [
    "# Rééchantillonnage pour gérer le déséquilibre\n",
    "smote = SMOTE(random_state=42)\n",
    "X_train_resampled, y_train_resampled = smote.fit_resample(X_train, y_train)\n"
   ]
  },
  {
   "cell_type": "code",
   "execution_count": 47,
   "id": "046abd71-2547-42dd-927b-04f0cbbd6668",
   "metadata": {},
   "outputs": [],
   "source": [
    "# Modèle Random Forest avec GridSearchCV\n",
    "param_grid_rf = {\n",
    "    'n_estimators': [100, 200, 300],\n",
    "    'max_depth': [10, 20, 30, None],\n",
    "    'min_samples_split': [2, 5, 10],\n",
    "    'min_samples_leaf': [1, 2, 4]\n",
    "}\n",
    "rf_model = RandomForestClassifier(random_state=42, n_jobs=-1)\n",
    "grid_search_rf = GridSearchCV(rf_model, param_grid_rf, cv=3, scoring='f1_weighted')\n",
    "grid_search_rf.fit(X_train_resampled, y_train_resampled)\n",
    "\n",
    "best_rf_model = grid_search_rf.best_estimator_\n",
    "\n"
   ]
  },
  {
   "cell_type": "code",
   "execution_count": 49,
   "id": "c9a38d48-120d-4695-8d8e-eca4f6e64d0f",
   "metadata": {},
   "outputs": [],
   "source": [
    "# Prédictions\n",
    "y_pred_train_rf = best_rf_model.predict(X_train)\n",
    "y_pred_test_rf = best_rf_model.predict(X_test)\n"
   ]
  },
  {
   "cell_type": "code",
   "execution_count": 51,
   "id": "4bcecd88-1b67-451a-bf87-b22ad743c0b2",
   "metadata": {},
   "outputs": [],
   "source": [
    "# Fonction pour afficher la matrice de confusion\n",
    "def plot_confusion_matrix(y_true, y_pred, model_name):\n",
    "    cm = confusion_matrix(y_true, y_pred)\n",
    "    plt.figure(figsize=(6, 4))\n",
    "    sns.heatmap(\n",
    "        cm, annot=True, fmt=\"d\", cmap=\"Blues\",\n",
    "        xticklabels=[\"Normaux\", \"Anomalies\"],  # Ajuste selon tes labels\n",
    "        yticklabels=[\"Normaux\", \"Anomalies\"]\n",
    "    )\n",
    "    plt.title(f\"Matrice de Confusion - {model_name}\")\n",
    "    plt.xlabel(\"Prédictions\")\n",
    "    plt.ylabel(\"Valeurs Réelles\")\n",
    "    plt.show()"
   ]
  },
  {
   "cell_type": "code",
   "execution_count": 53,
   "id": "0285e474-1a83-43f0-8d81-306035eaeb5b",
   "metadata": {},
   "outputs": [
    {
     "name": "stdout",
     "output_type": "stream",
     "text": [
      "Évaluation pour Random Forest :\n",
      "Précision : 1.00\n",
      "Rappel : 1.00\n",
      "F1-Score : 1.00\n",
      "Accuracy : 1.00\n"
     ]
    },
    {
     "data": {
      "image/png": "[encoded data removed]",
      "text/plain": [
       "<Figure size 600x400 with 2 Axes>"
      ]
     },
     "metadata": {},
     "output_type": "display_data"
    },
    {
     "name": "stdout",
     "output_type": "stream",
     "text": [
      "Metrics (Random Forest): {'Precision': 0.9983388704318937, 'Recall': 0.9950331125827815, 'F1-Score': 0.9966832504145937, 'Accuracy': 0.9986206896551724}\n"
     ]
    }
   ],
   "source": [
    "# Évaluation\n",
    "def evaluate_classification(y_true, y_pred, model_name):\n",
    "    precision, recall, f1, _ = precision_recall_fscore_support(y_true, y_pred, average='binary')\n",
    "    accuracy = accuracy_score(y_true, y_pred)\n",
    "    print(f\"Évaluation pour {model_name} :\")\n",
    "    print(f\"Précision : {precision:.2f}\")\n",
    "    print(f\"Rappel : {recall:.2f}\")\n",
    "    print(f\"F1-Score : {f1:.2f}\")\n",
    "    print(f\"Accuracy : {accuracy:.2f}\")\n",
    "    \n",
    "    # Affichage de la matrice de confusion\n",
    "    plot_confusion_matrix(y_true, y_pred, model_name)\n",
    "    \n",
    "    return {\n",
    "        \"Precision\": precision,\n",
    "        \"Recall\": recall,\n",
    "        \"F1-Score\": f1,\n",
    "        \"Accuracy\": accuracy\n",
    "    }\n",
    "\n",
    "metrics_rf = evaluate_classification(y_test, y_pred_test_rf, \"Random Forest\")\n",
    "print(\"Metrics (Random Forest):\", metrics_rf)\n"
   ]
  },
  {
   "cell_type": "code",
   "execution_count": 55,
   "id": "9bda412b-3f8f-446f-9e16-6857d973ea67",
   "metadata": {},
   "outputs": [],
   "source": [
    "from sklearn.neighbors import LocalOutlierFactor\n",
    "from sklearn.metrics import precision_recall_fscore_support, accuracy_score, confusion_matrix\n",
    "import seaborn as sns\n",
    "import matplotlib.pyplot as plt\n"
   ]
  },
  {
   "cell_type": "code",
   "execution_count": 57,
   "id": "497291e0-440a-48af-8710-8bdf98553790",
   "metadata": {},
   "outputs": [
    {
     "data": {
      "text/html": [
       "<style>#sk-container-id-1 {\n",
       "  /* Definition of color scheme common for light and dark mode */\n",
       "  --sklearn-color-text: black;\n",
       "  --sklearn-color-line: gray;\n",
       "  /* Definition of color scheme for unfitted estimators */\n",
       "  --sklearn-color-unfitted-level-0: #fff5e6;\n",
       "  --sklearn-color-unfitted-level-1: #f6e4d2;\n",
       "  --sklearn-color-unfitted-level-2: #ffe0b3;\n",
       "  --sklearn-color-unfitted-level-3: chocolate;\n",
       "  /* Definition of color scheme for fitted estimators */\n",
       "  --sklearn-color-fitted-level-0: #f0f8ff;\n",
       "  --sklearn-color-fitted-level-1: #d4ebff;\n",
       "  --sklearn-color-fitted-level-2: #b3dbfd;\n",
       "  --sklearn-color-fitted-level-3: cornflowerblue;\n",
       "\n",
       "  /* Specific color for light theme */\n",
       "  --sklearn-color-text-on-default-background: var(--sg-text-color, var(--theme-code-foreground, var(--jp-content-font-color1, black)));\n",
       "  --sklearn-color-background: var(--sg-background-color, var(--theme-background, var(--jp-layout-color0, white)));\n",
       "  --sklearn-color-border-box: var(--sg-text-color, var(--theme-code-foreground, var(--jp-content-font-color1, black)));\n",
       "  --sklearn-color-icon: #696969;\n",
       "\n",
       "  @media (prefers-color-scheme: dark) {\n",
       "    /* Redefinition of color scheme for dark theme */\n",
       "    --sklearn-color-text-on-default-background: var(--sg-text-color, var(--theme-code-foreground, var(--jp-content-font-color1, white)));\n",
       "    --sklearn-color-background: var(--sg-background-color, var(--theme-background, var(--jp-layout-color0, #111)));\n",
       "    --sklearn-color-border-box: var(--sg-text-color, var(--theme-code-foreground, var(--jp-content-font-color1, white)));\n",
       "    --sklearn-color-icon: #878787;\n",
       "  }\n",
       "}\n",
       "\n",
       "#sk-container-id-1 {\n",
       "  color: var(--sklearn-color-text);\n",
       "}\n",
       "\n",
       "#sk-container-id-1 pre {\n",
       "  padding: 0;\n",
       "}\n",
       "\n",
       "#sk-container-id-1 input.sk-hidden--visually {\n",
       "  border: 0;\n",
       "  clip: rect(1px 1px 1px 1px);\n",
       "  clip: rect(1px, 1px, 1px, 1px);\n",
       "  height: 1px;\n",
       "  margin: -1px;\n",
       "  overflow: hidden;\n",
       "  padding: 0;\n",
       "  position: absolute;\n",
       "  width: 1px;\n",
       "}\n",
       "\n",
       "#sk-container-id-1 div.sk-dashed-wrapped {\n",
       "  border: 1px dashed var(--sklearn-color-line);\n",
       "  margin: 0 0.4em 0.5em 0.4em;\n",
       "  box-sizing: border-box;\n",
       "  padding-bottom: 0.4em;\n",
       "  background-color: var(--sklearn-color-background);\n",
       "}\n",
       "\n",
       "#sk-container-id-1 div.sk-container {\n",
       "  /* jupyter's `normalize.less` sets `[hidden] { display: none; }`\n",
       "     but bootstrap.min.css set `[hidden] { display: none !important; }`\n",
       "     so we also need the `!important` here to be able to override the\n",
       "     default hidden behavior on the sphinx rendered scikit-learn.org.\n",
       "     See: https://github.com/scikit-learn/scikit-learn/issues/21755 */\n",
       "  display: inline-block !important;\n",
       "  position: relative;\n",
       "}\n",
       "\n",
       "#sk-container-id-1 div.sk-text-repr-fallback {\n",
       "  display: none;\n",
       "}\n",
       "\n",
       "div.sk-parallel-item,\n",
       "div.sk-serial,\n",
       "div.sk-item {\n",
       "  /* draw centered vertical line to link estimators */\n",
       "  background-image: linear-gradient(var(--sklearn-color-text-on-default-background), var(--sklearn-color-text-on-default-background));\n",
       "  background-size: 2px 100%;\n",
       "  background-repeat: no-repeat;\n",
       "  background-position: center center;\n",
       "}\n",
       "\n",
       "/* Parallel-specific style estimator block */\n",
       "\n",
       "#sk-container-id-1 div.sk-parallel-item::after {\n",
       "  content: \"\";\n",
       "  width: 100%;\n",
       "  border-bottom: 2px solid var(--sklearn-color-text-on-default-background);\n",
       "  flex-grow: 1;\n",
       "}\n",
       "\n",
       "#sk-container-id-1 div.sk-parallel {\n",
       "  display: flex;\n",
       "  align-items: stretch;\n",
       "  justify-content: center;\n",
       "  background-color: var(--sklearn-color-background);\n",
       "  position: relative;\n",
       "}\n",
       "\n",
       "#sk-container-id-1 div.sk-parallel-item {\n",
       "  display: flex;\n",
       "  flex-direction: column;\n",
       "}\n",
       "\n",
       "#sk-container-id-1 div.sk-parallel-item:first-child::after {\n",
       "  align-self: flex-end;\n",
       "  width: 50%;\n",
       "}\n",
       "\n",
       "#sk-container-id-1 div.sk-parallel-item:last-child::after {\n",
       "  align-self: flex-start;\n",
       "  width: 50%;\n",
       "}\n",
       "\n",
       "#sk-container-id-1 div.sk-parallel-item:only-child::after {\n",
       "  width: 0;\n",
       "}\n",
       "\n",
       "/* Serial-specific style estimator block */\n",
       "\n",
       "#sk-container-id-1 div.sk-serial {\n",
       "  display: flex;\n",
       "  flex-direction: column;\n",
       "  align-items: center;\n",
       "  background-color: var(--sklearn-color-background);\n",
       "  padding-right: 1em;\n",
       "  padding-left: 1em;\n",
       "}\n",
       "\n",
       "\n",
       "/* Toggleable style: style used for estimator/Pipeline/ColumnTransformer box that is\n",
       "clickable and can be expanded/collapsed.\n",
       "- Pipeline and ColumnTransformer use this feature and define the default style\n",
       "- Estimators will overwrite some part of the style using the `sk-estimator` class\n",
       "*/\n",
       "\n",
       "/* Pipeline and ColumnTransformer style (default) */\n",
       "\n",
       "#sk-container-id-1 div.sk-toggleable {\n",
       "  /* Default theme specific background. It is overwritten whether we have a\n",
       "  specific estimator or a Pipeline/ColumnTransformer */\n",
       "  background-color: var(--sklearn-color-background);\n",
       "}\n",
       "\n",
       "/* Toggleable label */\n",
       "#sk-container-id-1 label.sk-toggleable__label {\n",
       "  cursor: pointer;\n",
       "  display: block;\n",
       "  width: 100%;\n",
       "  margin-bottom: 0;\n",
       "  padding: 0.5em;\n",
       "  box-sizing: border-box;\n",
       "  text-align: center;\n",
       "}\n",
       "\n",
       "#sk-container-id-1 label.sk-toggleable__label-arrow:before {\n",
       "  /* Arrow on the left of the label */\n",
       "  content: \"▸\";\n",
       "  float: left;\n",
       "  margin-right: 0.25em;\n",
       "  color: var(--sklearn-color-icon);\n",
       "}\n",
       "\n",
       "#sk-container-id-1 label.sk-toggleable__label-arrow:hover:before {\n",
       "  color: var(--sklearn-color-text);\n",
       "}\n",
       "\n",
       "/* Toggleable content - dropdown */\n",
       "\n",
       "#sk-container-id-1 div.sk-toggleable__content {\n",
       "  max-height: 0;\n",
       "  max-width: 0;\n",
       "  overflow: hidden;\n",
       "  text-align: left;\n",
       "  /* unfitted */\n",
       "  background-color: var(--sklearn-color-unfitted-level-0);\n",
       "}\n",
       "\n",
       "#sk-container-id-1 div.sk-toggleable__content.fitted {\n",
       "  /* fitted */\n",
       "  background-color: var(--sklearn-color-fitted-level-0);\n",
       "}\n",
       "\n",
       "#sk-container-id-1 div.sk-toggleable__content pre {\n",
       "  margin: 0.2em;\n",
       "  border-radius: 0.25em;\n",
       "  color: var(--sklearn-color-text);\n",
       "  /* unfitted */\n",
       "  background-color: var(--sklearn-color-unfitted-level-0);\n",
       "}\n",
       "\n",
       "#sk-container-id-1 div.sk-toggleable__content.fitted pre {\n",
       "  /* unfitted */\n",
       "  background-color: var(--sklearn-color-fitted-level-0);\n",
       "}\n",
       "\n",
       "#sk-container-id-1 input.sk-toggleable__control:checked~div.sk-toggleable__content {\n",
       "  /* Expand drop-down */\n",
       "  max-height: 200px;\n",
       "  max-width: 100%;\n",
       "  overflow: auto;\n",
       "}\n",
       "\n",
       "#sk-container-id-1 input.sk-toggleable__control:checked~label.sk-toggleable__label-arrow:before {\n",
       "  content: \"▾\";\n",
       "}\n",
       "\n",
       "/* Pipeline/ColumnTransformer-specific style */\n",
       "\n",
       "#sk-container-id-1 div.sk-label input.sk-toggleable__control:checked~label.sk-toggleable__label {\n",
       "  color: var(--sklearn-color-text);\n",
       "  background-color: var(--sklearn-color-unfitted-level-2);\n",
       "}\n",
       "\n",
       "#sk-container-id-1 div.sk-label.fitted input.sk-toggleable__control:checked~label.sk-toggleable__label {\n",
       "  background-color: var(--sklearn-color-fitted-level-2);\n",
       "}\n",
       "\n",
       "/* Estimator-specific style */\n",
       "\n",
       "/* Colorize estimator box */\n",
       "#sk-container-id-1 div.sk-estimator input.sk-toggleable__control:checked~label.sk-toggleable__label {\n",
       "  /* unfitted */\n",
       "  background-color: var(--sklearn-color-unfitted-level-2);\n",
       "}\n",
       "\n",
       "#sk-container-id-1 div.sk-estimator.fitted input.sk-toggleable__control:checked~label.sk-toggleable__label {\n",
       "  /* fitted */\n",
       "  background-color: var(--sklearn-color-fitted-level-2);\n",
       "}\n",
       "\n",
       "#sk-container-id-1 div.sk-label label.sk-toggleable__label,\n",
       "#sk-container-id-1 div.sk-label label {\n",
       "  /* The background is the default theme color */\n",
       "  color: var(--sklearn-color-text-on-default-background);\n",
       "}\n",
       "\n",
       "/* On hover, darken the color of the background */\n",
       "#sk-container-id-1 div.sk-label:hover label.sk-toggleable__label {\n",
       "  color: var(--sklearn-color-text);\n",
       "  background-color: var(--sklearn-color-unfitted-level-2);\n",
       "}\n",
       "\n",
       "/* Label box, darken color on hover, fitted */\n",
       "#sk-container-id-1 div.sk-label.fitted:hover label.sk-toggleable__label.fitted {\n",
       "  color: var(--sklearn-color-text);\n",
       "  background-color: var(--sklearn-color-fitted-level-2);\n",
       "}\n",
       "\n",
       "/* Estimator label */\n",
       "\n",
       "#sk-container-id-1 div.sk-label label {\n",
       "  font-family: monospace;\n",
       "  font-weight: bold;\n",
       "  display: inline-block;\n",
       "  line-height: 1.2em;\n",
       "}\n",
       "\n",
       "#sk-container-id-1 div.sk-label-container {\n",
       "  text-align: center;\n",
       "}\n",
       "\n",
       "/* Estimator-specific */\n",
       "#sk-container-id-1 div.sk-estimator {\n",
       "  font-family: monospace;\n",
       "  border: 1px dotted var(--sklearn-color-border-box);\n",
       "  border-radius: 0.25em;\n",
       "  box-sizing: border-box;\n",
       "  margin-bottom: 0.5em;\n",
       "  /* unfitted */\n",
       "  background-color: var(--sklearn-color-unfitted-level-0);\n",
       "}\n",
       "\n",
       "#sk-container-id-1 div.sk-estimator.fitted {\n",
       "  /* fitted */\n",
       "  background-color: var(--sklearn-color-fitted-level-0);\n",
       "}\n",
       "\n",
       "/* on hover */\n",
       "#sk-container-id-1 div.sk-estimator:hover {\n",
       "  /* unfitted */\n",
       "  background-color: var(--sklearn-color-unfitted-level-2);\n",
       "}\n",
       "\n",
       "#sk-container-id-1 div.sk-estimator.fitted:hover {\n",
       "  /* fitted */\n",
       "  background-color: var(--sklearn-color-fitted-level-2);\n",
       "}\n",
       "\n",
       "/* Specification for estimator info (e.g. \"i\" and \"?\") */\n",
       "\n",
       "/* Common style for \"i\" and \"?\" */\n",
       "\n",
       ".sk-estimator-doc-link,\n",
       "a:link.sk-estimator-doc-link,\n",
       "a:visited.sk-estimator-doc-link {\n",
       "  float: right;\n",
       "  font-size: smaller;\n",
       "  line-height: 1em;\n",
       "  font-family: monospace;\n",
       "  background-color: var(--sklearn-color-background);\n",
       "  border-radius: 1em;\n",
       "  height: 1em;\n",
       "  width: 1em;\n",
       "  text-decoration: none !important;\n",
       "  margin-left: 1ex;\n",
       "  /* unfitted */\n",
       "  border: var(--sklearn-color-unfitted-level-1) 1pt solid;\n",
       "  color: var(--sklearn-color-unfitted-level-1);\n",
       "}\n",
       "\n",
       ".sk-estimator-doc-link.fitted,\n",
       "a:link.sk-estimator-doc-link.fitted,\n",
       "a:visited.sk-estimator-doc-link.fitted {\n",
       "  /* fitted */\n",
       "  border: var(--sklearn-color-fitted-level-1) 1pt solid;\n",
       "  color: var(--sklearn-color-fitted-level-1);\n",
       "}\n",
       "\n",
       "/* On hover */\n",
       "div.sk-estimator:hover .sk-estimator-doc-link:hover,\n",
       ".sk-estimator-doc-link:hover,\n",
       "div.sk-label-container:hover .sk-estimator-doc-link:hover,\n",
       ".sk-estimator-doc-link:hover {\n",
       "  /* unfitted */\n",
       "  background-color: var(--sklearn-color-unfitted-level-3);\n",
       "  color: var(--sklearn-color-background);\n",
       "  text-decoration: none;\n",
       "}\n",
       "\n",
       "div.sk-estimator.fitted:hover .sk-estimator-doc-link.fitted:hover,\n",
       ".sk-estimator-doc-link.fitted:hover,\n",
       "div.sk-label-container:hover .sk-estimator-doc-link.fitted:hover,\n",
       ".sk-estimator-doc-link.fitted:hover {\n",
       "  /* fitted */\n",
       "  background-color: var(--sklearn-color-fitted-level-3);\n",
       "  color: var(--sklearn-color-background);\n",
       "  text-decoration: none;\n",
       "}\n",
       "\n",
       "/* Span, style for the box shown on hovering the info icon */\n",
       ".sk-estimator-doc-link span {\n",
       "  display: none;\n",
       "  z-index: 9999;\n",
       "  position: relative;\n",
       "  font-weight: normal;\n",
       "  right: .2ex;\n",
       "  padding: .5ex;\n",
       "  margin: .5ex;\n",
       "  width: min-content;\n",
       "  min-width: 20ex;\n",
       "  max-width: 50ex;\n",
       "  color: var(--sklearn-color-text);\n",
       "  box-shadow: 2pt 2pt 4pt #999;\n",
       "  /* unfitted */\n",
       "  background: var(--sklearn-color-unfitted-level-0);\n",
       "  border: .5pt solid var(--sklearn-color-unfitted-level-3);\n",
       "}\n",
       "\n",
       ".sk-estimator-doc-link.fitted span {\n",
       "  /* fitted */\n",
       "  background: var(--sklearn-color-fitted-level-0);\n",
       "  border: var(--sklearn-color-fitted-level-3);\n",
       "}\n",
       "\n",
       ".sk-estimator-doc-link:hover span {\n",
       "  display: block;\n",
       "}\n",
       "\n",
       "/* \"?\"-specific style due to the `<a>` HTML tag */\n",
       "\n",
       "#sk-container-id-1 a.estimator_doc_link {\n",
       "  float: right;\n",
       "  font-size: 1rem;\n",
       "  line-height: 1em;\n",
       "  font-family: monospace;\n",
       "  background-color: var(--sklearn-color-background);\n",
       "  border-radius: 1rem;\n",
       "  height: 1rem;\n",
       "  width: 1rem;\n",
       "  text-decoration: none;\n",
       "  /* unfitted */\n",
       "  color: var(--sklearn-color-unfitted-level-1);\n",
       "  border: var(--sklearn-color-unfitted-level-1) 1pt solid;\n",
       "}\n",
       "\n",
       "#sk-container-id-1 a.estimator_doc_link.fitted {\n",
       "  /* fitted */\n",
       "  border: var(--sklearn-color-fitted-level-1) 1pt solid;\n",
       "  color: var(--sklearn-color-fitted-level-1);\n",
       "}\n",
       "\n",
       "/* On hover */\n",
       "#sk-container-id-1 a.estimator_doc_link:hover {\n",
       "  /* unfitted */\n",
       "  background-color: var(--sklearn-color-unfitted-level-3);\n",
       "  color: var(--sklearn-color-background);\n",
       "  text-decoration: none;\n",
       "}\n",
       "\n",
       "#sk-container-id-1 a.estimator_doc_link.fitted:hover {\n",
       "  /* fitted */\n",
       "  background-color: var(--sklearn-color-fitted-level-3);\n",
       "}\n",
       "</style><div id=\"sk-container-id-1\" class=\"sk-top-container\"><div class=\"sk-text-repr-fallback\"><pre>LocalOutlierFactor(novelty=True)</pre><b>In a Jupyter environment, please rerun this cell to show the HTML representation or trust the notebook. <br />On GitHub, the HTML representation is unable to render, please try loading this page with nbviewer.org.</b></div><div class=\"sk-container\" hidden><div class=\"sk-item\"><div class=\"sk-estimator fitted sk-toggleable\"><input class=\"sk-toggleable__control sk-hidden--visually\" id=\"sk-estimator-id-1\" type=\"checkbox\" checked><label for=\"sk-estimator-id-1\" class=\"sk-toggleable__label fitted sk-toggleable__label-arrow fitted\">&nbsp;&nbsp;LocalOutlierFactor<a class=\"sk-estimator-doc-link fitted\" rel=\"noreferrer\" target=\"_blank\" href=\"https://scikit-learn.org/1.5/modules/generated/sklearn.neighbors.LocalOutlierFactor.html\">?<span>Documentation for LocalOutlierFactor</span></a><span class=\"sk-estimator-doc-link fitted\">i<span>Fitted</span></span></label><div class=\"sk-toggleable__content fitted\"><pre>LocalOutlierFactor(novelty=True)</pre></div> </div></div></div></div>"
      ],
      "text/plain": [
       "LocalOutlierFactor(novelty=True)"
      ]
     },
     "execution_count": 57,
     "metadata": {},
     "output_type": "execute_result"
    }
   ],
   "source": [
    "# Modèle Local Outlier Factor\n",
    "lof_model = LocalOutlierFactor(n_neighbors=20, novelty=True)\n",
    "lof_model.fit(X_train)\n"
   ]
  },
  {
   "cell_type": "code",
   "execution_count": 59,
   "id": "b47d3a92-0ea5-452d-9a5f-fd080752a29c",
   "metadata": {},
   "outputs": [],
   "source": [
    "# Prédictions\n",
    "y_pred_train_lof = (lof_model.predict(X_train) == -1).astype(int)  # LOF retourne -1 pour anomalies\n",
    "y_pred_test_lof = (lof_model.predict(X_test) == -1).astype(int)\n"
   ]
  },
  {
   "cell_type": "code",
   "execution_count": 61,
   "id": "2c1b9cbf-a60d-49a5-8f93-41b4924517a4",
   "metadata": {},
   "outputs": [],
   "source": [
    "# Fonction pour afficher la matrice de confusion\n",
    "def plot_confusion_matrix(y_true, y_pred, model_name):\n",
    "    cm = confusion_matrix(y_true, y_pred)\n",
    "    plt.figure(figsize=(6, 4))\n",
    "    sns.heatmap(\n",
    "        cm, annot=True, fmt=\"d\", cmap=\"Blues\",\n",
    "        xticklabels=[\"Normaux\", \"Anomalies\"],  # Ajuste selon tes labels\n",
    "        yticklabels=[\"Normaux\", \"Anomalies\"]\n",
    "    )\n",
    "    plt.title(f\"Matrice de Confusion - {model_name}\")\n",
    "    plt.xlabel(\"Prédictions\")\n",
    "    plt.ylabel(\"Valeurs Réelles\")\n",
    "    plt.show()\n"
   ]
  },
  {
   "cell_type": "code",
   "execution_count": 63,
   "id": "e060bc05-0c86-4b88-9dc0-fa49219092f5",
   "metadata": {},
   "outputs": [
    {
     "name": "stdout",
     "output_type": "stream",
     "text": [
      "Évaluation pour Local Outlier Factor :\n",
      "Précision : 0.38\n",
      "Rappel : 0.09\n",
      "F1-Score : 0.14\n",
      "Accuracy : 0.78\n"
     ]
    },
    {
     "data": {
      "image/png": "[encoded data removed]",
      "text/plain": [
       "<Figure size 600x400 with 2 Axes>"
      ]
     },
     "metadata": {},
     "output_type": "display_data"
    },
    {
     "name": "stdout",
     "output_type": "stream",
     "text": [
      "Metrics (Local Outlier Factor): {'Precision': 0.37857142857142856, 'Recall': 0.08774834437086093, 'F1-Score': 0.1424731182795699, 'Accuracy': 0.78}\n"
     ]
    }
   ],
   "source": [
    "# Évaluation\n",
    "def evaluate_classification(y_true, y_pred, model_name):\n",
    "    precision, recall, f1, _ = precision_recall_fscore_support(y_true, y_pred, average='binary')\n",
    "    accuracy = accuracy_score(y_true, y_pred)\n",
    "    print(f\"Évaluation pour {model_name} :\")\n",
    "    print(f\"Précision : {precision:.2f}\")\n",
    "    print(f\"Rappel : {recall:.2f}\")\n",
    "    print(f\"F1-Score : {f1:.2f}\")\n",
    "    print(f\"Accuracy : {accuracy:.2f}\")\n",
    "    \n",
    "    # Affichage de la matrice de confusion\n",
    "    plot_confusion_matrix(y_true, y_pred, model_name)\n",
    "    \n",
    "    return {\n",
    "        \"Precision\": precision,\n",
    "        \"Recall\": recall,\n",
    "        \"F1-Score\": f1,\n",
    "        \"Accuracy\": accuracy\n",
    "    }\n",
    "\n",
    "metrics_lof = evaluate_classification(y_test, y_pred_test_lof, \"Local Outlier Factor\")\n",
    "print(\"Metrics (Local Outlier Factor):\", metrics_lof)\n"
   ]
  },
  {
   "cell_type": "code",
   "execution_count": 65,
   "id": "d6df6b85-62f5-4502-8a30-164967d3de98",
   "metadata": {},
   "outputs": [
    {
     "name": "stdout",
     "output_type": "stream",
     "text": [
      "Évaluation pour PCA Robuste + Isolation Forest :\n",
      "Précision : 0.71\n",
      "Rappel : 0.34\n",
      "F1-Score : 0.46\n",
      "Accuracy : 0.83\n"
     ]
    },
    {
     "data": {
      "image/png": "[encoded data removed]",
      "text/plain": [
       "<Figure size 600x400 with 2 Axes>"
      ]
     },
     "metadata": {},
     "output_type": "display_data"
    },
    {
     "name": "stdout",
     "output_type": "stream",
     "text": [
      "Metrics (PCA Robuste + Isolation Forest): {'Precision': 0.7147887323943662, 'Recall': 0.3360927152317881, 'F1-Score': 0.4572072072072072, 'Accuracy': 0.8337931034482758}\n"
     ]
    }
   ],
   "source": [
    "from sklearn.decomposition import PCA\n",
    "from sklearn.ensemble import IsolationForest\n",
    "\n",
    "# Application de PCA robuste (remplace Isolation Forest si nécessaire)\n",
    "pca_robust = PCA(n_components=2)  # Réduit à 2 dimensions pour visualisation si nécessaire\n",
    "X_train_pca = pca_robust.fit_transform(X_train)\n",
    "X_test_pca = pca_robust.transform(X_test)\n",
    "\n",
    "# Utilisation d'Isolation Forest pour détecter les anomalies sur les données PCA\n",
    "iso_forest_pca = IsolationForest(random_state=42, contamination=0.1)\n",
    "iso_forest_pca.fit(X_train_pca)\n",
    "\n",
    "# Prédictions\n",
    "y_pred_train_pca = (iso_forest_pca.predict(X_train_pca) == -1).astype(int)\n",
    "y_pred_test_pca = (iso_forest_pca.predict(X_test_pca) == -1).astype(int)\n",
    "\n",
    "# Évaluation avec matrice de confusion\n",
    "metrics_pca = evaluate_classification(y_test, y_pred_test_pca, \"PCA Robuste + Isolation Forest\")\n",
    "print(\"Metrics (PCA Robuste + Isolation Forest):\", metrics_pca)\n"
   ]
  },
  {
   "cell_type": "code",
   "execution_count": null,
   "id": "abf23407-dda9-4383-a64a-7d53368f1032",
   "metadata": {},
   "outputs": [],
   "source": [
    "\n",
    "\n",
    "import pandas as pd\n",
    "import numpy as np\n",
    "from sklearn.model_selection import train_test_split, GridSearchCV\n",
    "from sklearn.preprocessing import StandardScaler\n",
    "from sklearn.ensemble import IsolationForest\n",
    "from sklearn.decomposition import PCA\n",
    "from sklearn.neighbors import LocalOutlierFactor\n",
    "from sklearn.metrics import classification_report, confusion_matrix, accuracy_score, precision_score, recall_score, f1_score\n",
    "import matplotlib.pyplot as plt\n",
    "import seaborn as sns\n",
    "from imblearn.over_sampling import SMOTE\n",
    "\n",
    "# 1. Data Loading and Preprocessing\n",
    "file_path = \"D:\\\\MEMO\\\\dataset\\\\archive\\\\kddcup.data_10_percent.gz\"\n",
    "# ... (Data loading and preprocessing code from previous response) ...\n",
    "# Load the dataset \n",
    "data = pd.read_csv(file_path, header=None)\n",
    "\n",
    "# Assign column names (based on the KDD Cup 99 documentation)\n",
    "column_names = [\n",
    "    \"duration\", \"protocol_type\", \"service\", \"flag\", \"src_bytes\",\n",
    "    \"dst_bytes\", \"land\", \"wrong_fragment\", \"urgent\", \"hot\",\n",
    "    \"num_failed_logins\", \"logged_in\", \"num_compromised\", \"root_shell\",\n",
    "    \"su_attempted\", \"num_root\", \"num_file_creations\", \"num_shells\",\n",
    "    \"num_access_files\", \"num_outbound_cmds\", \"is_host_login\",\n",
    "    \"is_guest_login\", \"count\", \"srv_count\", \"serror_rate\",\n",
    "    \"srv_serror_rate\", \"rerror_rate\", \"srv_rerror_rate\", \"same_srv_rate\",\n",
    "    \"diff_srv_rate\", \"srv_diff_host_rate\", \"dst_host_count\",\n",
    "    \"dst_host_srv_count\", \"dst_host_same_srv_rate\",\n",
    "    \"dst_host_diff_srv_rate\", \"dst_host_same_src_port_rate\",\n",
    "    \"dst_host_srv_diff_host_rate\", \"dst_host_serror_rate\",\n",
    "    \"dst_host_srv_serror_rate\", \"dst_host_rerror_rate\",\n",
    "    \"dst_host_srv_rerror_rate\", \"attack_type\"\n",
    "]\n",
    "data.columns = column_names\n",
    "\n",
    "# Convert categorical features to numerical using one-hot encoding\n",
    "categorical_features = [\"protocol_type\", \"service\", \"flag\"]\n",
    "data = pd.get_dummies(data, columns=categorical_features)\n",
    "\n",
    "# 2. Data Splitting and Standardization\n",
    "# ... (Data splitting and standardization code from previous response) ...\n",
    "\n",
    "# Separate features (X) and target (y)\n",
    "X = data.drop(\"attack_type\", axis=1)\n",
    "y = data[\"attack_type\"]\n",
    "\n",
    "# Split into training and testing sets\n",
    "X_train, X_test, y_train, y_test = train_test_split(X, y, test_size=0.2, random_state=42, stratify=y)\n",
    "\n",
    "# Standardize the features\n",
    "scaler = StandardScaler()\n",
    "X_train_scaled = scaler.fit_transform(X_train)\n",
    "X_test_scaled = scaler.transform(X_test)\n",
    "\n",
    "\n",
    "# 3. Resampling using SMOTE (Oversampling) - Adjusted\n",
    "smote = SMOTE(random_state=42, k_neighbors=2)  # Change k_neighbors to 2 \n",
    "X_train_resampled, y_train_resampled = smote.fit_resample(X_train_scaled, y_train)\n"
   ]
  },
  {
   "cell_type": "code",
   "execution_count": null,
   "id": "4d549379-0978-41a3-a2b8-92cbaa370813",
   "metadata": {},
   "outputs": [],
   "source": []
  }
 ],
 "metadata": {
  "kernelspec": {
   "display_name": "Python 3 (ipykernel)",
   "language": "python",
   "name": "python3"
  },
  "language_info": {
   "codemirror_mode": {
    "name": "ipython",
    "version": 3
   },
   "file_extension": ".py",
   "mimetype": "text/x-python",
   "name": "python",
   "nbconvert_exporter": "python",
   "pygments_lexer": "ipython3",
   "version": "3.12.7"
  }
 },
 "nbformat": 4,
 "nbformat_minor": 5
}
